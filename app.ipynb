{
 "cells": [
  {
   "cell_type": "code",
   "execution_count": null,
   "id": "a9bfbed7-6f30-4059-988a-12638a7a1c99",
   "metadata": {},
   "outputs": [],
   "source": [
    "from flask import Flask, render_template, request, jsonify\n",
    "\n",
    "app = Flask(__name__)\n",
    "\n",
    "@app.route('/')\n",
    "def home():\n",
    "    return render_template('home.html')\n",
    "\n",
    "@app.route('/render')\n",
    "def render_page():\n",
    "    return render_template('render.html')\n",
    "\n",
    "@app.route('/classify', methods=['POST'])\n",
    "def classify():\n",
    "    data = request.json\n",
    "    category = data.get(\"category\")\n",
    "\n",
    "    # Dummy classification logic (replace with ML model if needed)\n",
    "    result = f\"Classification result for {category}: Success\"\n",
    "    \n",
    "    return jsonify({\"message\": result})\n",
    "\n",
    "if __name__ == '__main__':\n",
    "    app.run(debug=True)\n"
   ]
  }
 ],
 "metadata": {
  "kernelspec": {
   "display_name": "Python 3 (ipykernel)",
   "language": "python",
   "name": "python3"
  },
  "language_info": {
   "codemirror_mode": {
    "name": "ipython",
    "version": 3
   },
   "file_extension": ".py",
   "mimetype": "text/x-python",
   "name": "python",
   "nbconvert_exporter": "python",
   "pygments_lexer": "ipython3",
   "version": "3.12.4"
  }
 },
 "nbformat": 4,
 "nbformat_minor": 5
}
